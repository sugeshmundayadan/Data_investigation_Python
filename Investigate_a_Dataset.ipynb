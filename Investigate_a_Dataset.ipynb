{
 "cells": [
  {
   "cell_type": "markdown",
   "metadata": {},
   "source": [
    "\n",
    "# Project: Investigate a Dataset to explore Insights from TMDb movie"
   ]
  },
  {
   "cell_type": "markdown",
   "metadata": {},
   "source": [
    "<a id='intro'></a>\n",
    "## Introduction\n",
    "\n",
    "In this project we will deep dive into the TMDb movie dataset, which has a listing of more than 10,000 movies. Deep dive into the data to gather key findings and \n",
    "\n",
    "Questions to address based on the data studied:\n",
    "* Which genre were popular over the period of years\n",
    "* Which were the top movies that made maximum profits\n"
   ]
  },
  {
   "cell_type": "code",
   "execution_count": 75,
   "metadata": {},
   "outputs": [],
   "source": [
    "# Import statements\n",
    "import pandas as pd\n",
    "import numpy as np\n",
    "import matplotlib as mt\n",
    "import matplotlib.pyplot as plt\n",
    "import seaborn as sns; \n",
    "sns.set(style=\"ticks\", color_codes=True)\n",
    "\n",
    "%matplotlib inline\n"
   ]
  },
  {
   "cell_type": "markdown",
   "metadata": {},
   "source": [
    "<a id='wrangling'></a>\n",
    "## Data Wrangling\n",
    "\n",
    "### General Properties"
   ]
  },
  {
   "cell_type": "code",
   "execution_count": 76,
   "metadata": {
    "scrolled": true
   },
   "outputs": [
    {
     "name": "stdout",
     "output_type": "stream",
     "text": [
      "<class 'pandas.core.frame.DataFrame'>\n",
      "RangeIndex: 10866 entries, 0 to 10865\n",
      "Data columns (total 21 columns):\n",
      "id                      10866 non-null int64\n",
      "imdb_id                 10856 non-null object\n",
      "popularity              10866 non-null float64\n",
      "budget                  10866 non-null int64\n",
      "revenue                 10866 non-null int64\n",
      "original_title          10866 non-null object\n",
      "cast                    10790 non-null object\n",
      "homepage                2936 non-null object\n",
      "director                10822 non-null object\n",
      "tagline                 8042 non-null object\n",
      "keywords                9373 non-null object\n",
      "overview                10862 non-null object\n",
      "runtime                 10866 non-null int64\n",
      "genres                  10843 non-null object\n",
      "production_companies    9836 non-null object\n",
      "release_date            10866 non-null object\n",
      "vote_count              10866 non-null int64\n",
      "vote_average            10866 non-null float64\n",
      "release_year            10866 non-null int64\n",
      "budget_adj              10866 non-null float64\n",
      "revenue_adj             10866 non-null float64\n",
      "dtypes: float64(4), int64(6), object(11)\n",
      "memory usage: 1.7+ MB\n"
     ]
    }
   ],
   "source": [
    "df = pd.read_csv(\"tmdb-movies.csv\")\n",
    "df.info()"
   ]
  },
  {
   "cell_type": "markdown",
   "metadata": {},
   "source": [
    "### Data Profiling"
   ]
  },
  {
   "cell_type": "code",
   "execution_count": 77,
   "metadata": {},
   "outputs": [
    {
     "data": {
      "text/html": [
       "<div>\n",
       "<style>\n",
       "    .dataframe thead tr:only-child th {\n",
       "        text-align: right;\n",
       "    }\n",
       "\n",
       "    .dataframe thead th {\n",
       "        text-align: left;\n",
       "    }\n",
       "\n",
       "    .dataframe tbody tr th {\n",
       "        vertical-align: top;\n",
       "    }\n",
       "</style>\n",
       "<table border=\"1\" class=\"dataframe\">\n",
       "  <thead>\n",
       "    <tr style=\"text-align: right;\">\n",
       "      <th></th>\n",
       "      <th>id</th>\n",
       "      <th>popularity</th>\n",
       "      <th>budget</th>\n",
       "      <th>revenue</th>\n",
       "      <th>runtime</th>\n",
       "      <th>vote_count</th>\n",
       "      <th>vote_average</th>\n",
       "      <th>release_year</th>\n",
       "      <th>budget_adj</th>\n",
       "      <th>revenue_adj</th>\n",
       "    </tr>\n",
       "  </thead>\n",
       "  <tbody>\n",
       "    <tr>\n",
       "      <th>count</th>\n",
       "      <td>10866.000000</td>\n",
       "      <td>10866.000000</td>\n",
       "      <td>1.086600e+04</td>\n",
       "      <td>1.086600e+04</td>\n",
       "      <td>10866.000000</td>\n",
       "      <td>10866.000000</td>\n",
       "      <td>10866.000000</td>\n",
       "      <td>10866.000000</td>\n",
       "      <td>1.086600e+04</td>\n",
       "      <td>1.086600e+04</td>\n",
       "    </tr>\n",
       "    <tr>\n",
       "      <th>mean</th>\n",
       "      <td>66064.177434</td>\n",
       "      <td>0.646441</td>\n",
       "      <td>1.462570e+07</td>\n",
       "      <td>3.982332e+07</td>\n",
       "      <td>102.070863</td>\n",
       "      <td>217.389748</td>\n",
       "      <td>5.974922</td>\n",
       "      <td>2001.322658</td>\n",
       "      <td>1.755104e+07</td>\n",
       "      <td>5.136436e+07</td>\n",
       "    </tr>\n",
       "    <tr>\n",
       "      <th>std</th>\n",
       "      <td>92130.136561</td>\n",
       "      <td>1.000185</td>\n",
       "      <td>3.091321e+07</td>\n",
       "      <td>1.170035e+08</td>\n",
       "      <td>31.381405</td>\n",
       "      <td>575.619058</td>\n",
       "      <td>0.935142</td>\n",
       "      <td>12.812941</td>\n",
       "      <td>3.430616e+07</td>\n",
       "      <td>1.446325e+08</td>\n",
       "    </tr>\n",
       "    <tr>\n",
       "      <th>min</th>\n",
       "      <td>5.000000</td>\n",
       "      <td>0.000065</td>\n",
       "      <td>0.000000e+00</td>\n",
       "      <td>0.000000e+00</td>\n",
       "      <td>0.000000</td>\n",
       "      <td>10.000000</td>\n",
       "      <td>1.500000</td>\n",
       "      <td>1960.000000</td>\n",
       "      <td>0.000000e+00</td>\n",
       "      <td>0.000000e+00</td>\n",
       "    </tr>\n",
       "    <tr>\n",
       "      <th>25%</th>\n",
       "      <td>10596.250000</td>\n",
       "      <td>0.207583</td>\n",
       "      <td>0.000000e+00</td>\n",
       "      <td>0.000000e+00</td>\n",
       "      <td>90.000000</td>\n",
       "      <td>17.000000</td>\n",
       "      <td>5.400000</td>\n",
       "      <td>1995.000000</td>\n",
       "      <td>0.000000e+00</td>\n",
       "      <td>0.000000e+00</td>\n",
       "    </tr>\n",
       "    <tr>\n",
       "      <th>50%</th>\n",
       "      <td>20669.000000</td>\n",
       "      <td>0.383856</td>\n",
       "      <td>0.000000e+00</td>\n",
       "      <td>0.000000e+00</td>\n",
       "      <td>99.000000</td>\n",
       "      <td>38.000000</td>\n",
       "      <td>6.000000</td>\n",
       "      <td>2006.000000</td>\n",
       "      <td>0.000000e+00</td>\n",
       "      <td>0.000000e+00</td>\n",
       "    </tr>\n",
       "    <tr>\n",
       "      <th>75%</th>\n",
       "      <td>75610.000000</td>\n",
       "      <td>0.713817</td>\n",
       "      <td>1.500000e+07</td>\n",
       "      <td>2.400000e+07</td>\n",
       "      <td>111.000000</td>\n",
       "      <td>145.750000</td>\n",
       "      <td>6.600000</td>\n",
       "      <td>2011.000000</td>\n",
       "      <td>2.085325e+07</td>\n",
       "      <td>3.369710e+07</td>\n",
       "    </tr>\n",
       "    <tr>\n",
       "      <th>max</th>\n",
       "      <td>417859.000000</td>\n",
       "      <td>32.985763</td>\n",
       "      <td>4.250000e+08</td>\n",
       "      <td>2.781506e+09</td>\n",
       "      <td>900.000000</td>\n",
       "      <td>9767.000000</td>\n",
       "      <td>9.200000</td>\n",
       "      <td>2015.000000</td>\n",
       "      <td>4.250000e+08</td>\n",
       "      <td>2.827124e+09</td>\n",
       "    </tr>\n",
       "  </tbody>\n",
       "</table>\n",
       "</div>"
      ],
      "text/plain": [
       "                  id    popularity        budget       revenue       runtime  \\\n",
       "count   10866.000000  10866.000000  1.086600e+04  1.086600e+04  10866.000000   \n",
       "mean    66064.177434      0.646441  1.462570e+07  3.982332e+07    102.070863   \n",
       "std     92130.136561      1.000185  3.091321e+07  1.170035e+08     31.381405   \n",
       "min         5.000000      0.000065  0.000000e+00  0.000000e+00      0.000000   \n",
       "25%     10596.250000      0.207583  0.000000e+00  0.000000e+00     90.000000   \n",
       "50%     20669.000000      0.383856  0.000000e+00  0.000000e+00     99.000000   \n",
       "75%     75610.000000      0.713817  1.500000e+07  2.400000e+07    111.000000   \n",
       "max    417859.000000     32.985763  4.250000e+08  2.781506e+09    900.000000   \n",
       "\n",
       "         vote_count  vote_average  release_year    budget_adj   revenue_adj  \n",
       "count  10866.000000  10866.000000  10866.000000  1.086600e+04  1.086600e+04  \n",
       "mean     217.389748      5.974922   2001.322658  1.755104e+07  5.136436e+07  \n",
       "std      575.619058      0.935142     12.812941  3.430616e+07  1.446325e+08  \n",
       "min       10.000000      1.500000   1960.000000  0.000000e+00  0.000000e+00  \n",
       "25%       17.000000      5.400000   1995.000000  0.000000e+00  0.000000e+00  \n",
       "50%       38.000000      6.000000   2006.000000  0.000000e+00  0.000000e+00  \n",
       "75%      145.750000      6.600000   2011.000000  2.085325e+07  3.369710e+07  \n",
       "max     9767.000000      9.200000   2015.000000  4.250000e+08  2.827124e+09  "
      ]
     },
     "execution_count": 77,
     "metadata": {},
     "output_type": "execute_result"
    }
   ],
   "source": [
    "# unique directors -- 5068\n",
    "# len(df_v1['director'].unique())\n",
    "\n",
    "# unique directors -- 10720\n",
    "# len(df_v1['cast'].unique())\n",
    "\n",
    "# unique directors -- 7446\n",
    "# len(df['production_companies'].unique())\n",
    "\n",
    "\n",
    "df.describe()"
   ]
  },
  {
   "cell_type": "markdown",
   "metadata": {},
   "source": [
    "\n",
    "### Data Cleaning - Remove Duplicates"
   ]
  },
  {
   "cell_type": "code",
   "execution_count": 78,
   "metadata": {},
   "outputs": [
    {
     "name": "stderr",
     "output_type": "stream",
     "text": [
      "/opt/conda/lib/python3.6/site-packages/ipykernel_launcher.py:30: SettingWithCopyWarning: \n",
      "A value is trying to be set on a copy of a slice from a DataFrame\n",
      "\n",
      "See the caveats in the documentation: http://pandas.pydata.org/pandas-docs/stable/indexing.html#indexing-view-versus-copy\n",
      "/opt/conda/lib/python3.6/site-packages/ipykernel_launcher.py:31: SettingWithCopyWarning: \n",
      "A value is trying to be set on a copy of a slice from a DataFrame\n",
      "\n",
      "See the caveats in the documentation: http://pandas.pydata.org/pandas-docs/stable/indexing.html#indexing-view-versus-copy\n"
     ]
    },
    {
     "data": {
      "text/html": [
       "<div>\n",
       "<style>\n",
       "    .dataframe thead tr:only-child th {\n",
       "        text-align: right;\n",
       "    }\n",
       "\n",
       "    .dataframe thead th {\n",
       "        text-align: left;\n",
       "    }\n",
       "\n",
       "    .dataframe tbody tr th {\n",
       "        vertical-align: top;\n",
       "    }\n",
       "</style>\n",
       "<table border=\"1\" class=\"dataframe\">\n",
       "  <thead>\n",
       "    <tr style=\"text-align: right;\">\n",
       "      <th></th>\n",
       "      <th>original_title</th>\n",
       "      <th>popularity</th>\n",
       "      <th>production_companies</th>\n",
       "      <th>budget</th>\n",
       "      <th>revenue</th>\n",
       "      <th>cast</th>\n",
       "      <th>director</th>\n",
       "      <th>genres</th>\n",
       "      <th>release_date</th>\n",
       "      <th>vote_count</th>\n",
       "      <th>...</th>\n",
       "      <th>genres_1</th>\n",
       "      <th>genres_2</th>\n",
       "      <th>genres_3</th>\n",
       "      <th>genres_4</th>\n",
       "      <th>production_comp_0</th>\n",
       "      <th>production_comp_1</th>\n",
       "      <th>production_comp_2</th>\n",
       "      <th>production_comp_3</th>\n",
       "      <th>production_comp_4</th>\n",
       "      <th>release_mth</th>\n",
       "    </tr>\n",
       "  </thead>\n",
       "  <tbody>\n",
       "  </tbody>\n",
       "</table>\n",
       "<p>0 rows × 25 columns</p>\n",
       "</div>"
      ],
      "text/plain": [
       "Empty DataFrame\n",
       "Columns: [original_title, popularity, production_companies, budget, revenue, cast, director, genres, release_date, vote_count, vote_average, release_year, budget_adj, revenue_adj, genres_0, genres_1, genres_2, genres_3, genres_4, production_comp_0, production_comp_1, production_comp_2, production_comp_3, production_comp_4, release_mth]\n",
       "Index: []\n",
       "\n",
       "[0 rows x 25 columns]"
      ]
     },
     "execution_count": 78,
     "metadata": {},
     "output_type": "execute_result"
    }
   ],
   "source": [
    "# Check for duplicate entry, remove the same \n",
    "\n",
    "# Check for missing values\n",
    "df.isnull().sum(axis=0)\n",
    "\n",
    "# Select required attributes for analysis\n",
    "col=['original_title','popularity','production_companies','budget','revenue','cast','director','genres','release_date','vote_count','vote_average','release_year','budget_adj','revenue_adj']\n",
    "df=df[col]\n",
    "\n",
    "# analyse the list of generes, create unique list\n",
    "a=df[\"genres\"].str.split(\"|\",expand=True)\n",
    "a.rename(columns=lambda x: \"genres_\"+str(x), inplace=True)\n",
    "\n",
    "b=df[\"production_companies\"].str.split(\"|\",expand=True)\n",
    "b.rename(columns=lambda x: \"production_comp_\"+str(x), inplace=True)\n",
    "\n",
    "\n",
    "\n",
    "#df=pd.concat([df,a],axis=0)\n",
    "df=df.join(a,how='outer')\n",
    "df=df.join(b,how='outer')\n",
    "\n",
    "# Extract Movie Release Month\n",
    "df['release_mth']=pd.to_datetime(df['release_date']).dt.strftime('%b')\n",
    "\n",
    "\n",
    "df.dropna(subset=['genres_0'],inplace=True)\n",
    "\n",
    "# Update value with mean where there is no info on revenue and budget\n",
    "df['budget'][df.eval('budget==0')]=df.query('budget!=0')['budget'].mean() \n",
    "df['revenue'][df.eval('revenue==0')]=df.query('revenue!=0')['revenue'].mean() \n",
    "\n",
    "df=df.drop_duplicates(keep='first')\n",
    "\n",
    "# confirm if duplicates are removed\n",
    "df[df.duplicated(keep=False)]\n"
   ]
  },
  {
   "cell_type": "markdown",
   "metadata": {},
   "source": [
    "<a id='eda'></a>\n",
    "## Exploratory Data Analysis\n",
    "\n",
    "\n",
    "#### Research Question 1- Popular Genres across year"
   ]
  },
  {
   "cell_type": "markdown",
   "metadata": {},
   "source": [
    " Data Study:"
   ]
  },
  {
   "cell_type": "code",
   "execution_count": 79,
   "metadata": {},
   "outputs": [
    {
     "data": {
      "text/html": [
       "<div>\n",
       "<style>\n",
       "    .dataframe thead tr:only-child th {\n",
       "        text-align: right;\n",
       "    }\n",
       "\n",
       "    .dataframe thead th {\n",
       "        text-align: left;\n",
       "    }\n",
       "\n",
       "    .dataframe tbody tr th {\n",
       "        vertical-align: top;\n",
       "    }\n",
       "</style>\n",
       "<table border=\"1\" class=\"dataframe\">\n",
       "  <thead>\n",
       "    <tr style=\"text-align: right;\">\n",
       "      <th></th>\n",
       "      <th>popularity</th>\n",
       "      <th>budget</th>\n",
       "      <th>revenue</th>\n",
       "      <th>vote_count</th>\n",
       "      <th>vote_average</th>\n",
       "      <th>release_year</th>\n",
       "      <th>budget_adj</th>\n",
       "      <th>revenue_adj</th>\n",
       "    </tr>\n",
       "  </thead>\n",
       "  <tbody>\n",
       "    <tr>\n",
       "      <th>popularity</th>\n",
       "      <td>1.000000</td>\n",
       "      <td>0.440002</td>\n",
       "      <td>0.570405</td>\n",
       "      <td>0.800786</td>\n",
       "      <td>0.210432</td>\n",
       "      <td>0.090200</td>\n",
       "      <td>0.513311</td>\n",
       "      <td>0.608964</td>\n",
       "    </tr>\n",
       "    <tr>\n",
       "      <th>budget</th>\n",
       "      <td>0.440002</td>\n",
       "      <td>1.000000</td>\n",
       "      <td>0.640935</td>\n",
       "      <td>0.547900</td>\n",
       "      <td>0.059783</td>\n",
       "      <td>0.136435</td>\n",
       "      <td>0.809260</td>\n",
       "      <td>0.525715</td>\n",
       "    </tr>\n",
       "    <tr>\n",
       "      <th>revenue</th>\n",
       "      <td>0.570405</td>\n",
       "      <td>0.640935</td>\n",
       "      <td>1.000000</td>\n",
       "      <td>0.715252</td>\n",
       "      <td>0.118269</td>\n",
       "      <td>0.073292</td>\n",
       "      <td>0.574793</td>\n",
       "      <td>0.831318</td>\n",
       "    </tr>\n",
       "    <tr>\n",
       "      <th>vote_count</th>\n",
       "      <td>0.800786</td>\n",
       "      <td>0.547900</td>\n",
       "      <td>0.715252</td>\n",
       "      <td>1.000000</td>\n",
       "      <td>0.254698</td>\n",
       "      <td>0.108275</td>\n",
       "      <td>0.586923</td>\n",
       "      <td>0.707865</td>\n",
       "    </tr>\n",
       "    <tr>\n",
       "      <th>vote_average</th>\n",
       "      <td>0.210432</td>\n",
       "      <td>0.059783</td>\n",
       "      <td>0.118269</td>\n",
       "      <td>0.254698</td>\n",
       "      <td>1.000000</td>\n",
       "      <td>-0.119851</td>\n",
       "      <td>0.093811</td>\n",
       "      <td>0.193836</td>\n",
       "    </tr>\n",
       "    <tr>\n",
       "      <th>release_year</th>\n",
       "      <td>0.090200</td>\n",
       "      <td>0.136435</td>\n",
       "      <td>0.073292</td>\n",
       "      <td>0.108275</td>\n",
       "      <td>-0.119851</td>\n",
       "      <td>1.000000</td>\n",
       "      <td>0.017076</td>\n",
       "      <td>-0.066118</td>\n",
       "    </tr>\n",
       "    <tr>\n",
       "      <th>budget_adj</th>\n",
       "      <td>0.513311</td>\n",
       "      <td>0.809260</td>\n",
       "      <td>0.574793</td>\n",
       "      <td>0.586923</td>\n",
       "      <td>0.093811</td>\n",
       "      <td>0.017076</td>\n",
       "      <td>1.000000</td>\n",
       "      <td>0.646507</td>\n",
       "    </tr>\n",
       "    <tr>\n",
       "      <th>revenue_adj</th>\n",
       "      <td>0.608964</td>\n",
       "      <td>0.525715</td>\n",
       "      <td>0.831318</td>\n",
       "      <td>0.707865</td>\n",
       "      <td>0.193836</td>\n",
       "      <td>-0.066118</td>\n",
       "      <td>0.646507</td>\n",
       "      <td>1.000000</td>\n",
       "    </tr>\n",
       "  </tbody>\n",
       "</table>\n",
       "</div>"
      ],
      "text/plain": [
       "              popularity    budget   revenue  vote_count  vote_average  \\\n",
       "popularity      1.000000  0.440002  0.570405    0.800786      0.210432   \n",
       "budget          0.440002  1.000000  0.640935    0.547900      0.059783   \n",
       "revenue         0.570405  0.640935  1.000000    0.715252      0.118269   \n",
       "vote_count      0.800786  0.547900  0.715252    1.000000      0.254698   \n",
       "vote_average    0.210432  0.059783  0.118269    0.254698      1.000000   \n",
       "release_year    0.090200  0.136435  0.073292    0.108275     -0.119851   \n",
       "budget_adj      0.513311  0.809260  0.574793    0.586923      0.093811   \n",
       "revenue_adj     0.608964  0.525715  0.831318    0.707865      0.193836   \n",
       "\n",
       "              release_year  budget_adj  revenue_adj  \n",
       "popularity        0.090200    0.513311     0.608964  \n",
       "budget            0.136435    0.809260     0.525715  \n",
       "revenue           0.073292    0.574793     0.831318  \n",
       "vote_count        0.108275    0.586923     0.707865  \n",
       "vote_average     -0.119851    0.093811     0.193836  \n",
       "release_year      1.000000    0.017076    -0.066118  \n",
       "budget_adj        0.017076    1.000000     0.646507  \n",
       "revenue_adj      -0.066118    0.646507     1.000000  "
      ]
     },
     "execution_count": 79,
     "metadata": {},
     "output_type": "execute_result"
    }
   ],
   "source": [
    "# Analyse the Correlation between variables\n",
    "df.corr()"
   ]
  },
  {
   "cell_type": "markdown",
   "metadata": {},
   "source": [
    "Scatter plot and Histogram to describe the discribtion and correleation "
   ]
  },
  {
   "cell_type": "code",
   "execution_count": 80,
   "metadata": {},
   "outputs": [
    {
     "data": {
      "image/png": "[encoded data removed]",
      "text/plain": [
       "<matplotlib.figure.Figure at 0x7fa80364ba20>"
      ]
     },
     "metadata": {
      "needs_background": "light"
     },
     "output_type": "display_data"
    }
   ],
   "source": [
    "g = sns.pairplot(df[['release_date','budget','revenue','genres_0']],palette=sns.color_palette(\"hls\", 8))"
   ]
  },
  {
   "cell_type": "markdown",
   "metadata": {},
   "source": [
    "Data distribution across years -"
   ]
  },
  {
   "cell_type": "code",
   "execution_count": 81,
   "metadata": {},
   "outputs": [
    {
     "data": {
      "image/png": "[encoded data removed]",
      "text/plain": [
       "<matplotlib.figure.Figure at 0x7fa7fcae5c18>"
      ]
     },
     "metadata": {
      "needs_background": "light"
     },
     "output_type": "display_data"
    }
   ],
   "source": [
    "ax = sns.violinplot(x=df['release_year'])"
   ]
  },
  {
   "cell_type": "code",
   "execution_count": 82,
   "metadata": {},
   "outputs": [],
   "source": [
    "#ax = sns.heatmap(df_sum, linewidths=.5)\n"
   ]
  },
  {
   "cell_type": "markdown",
   "metadata": {},
   "source": [
    "The Above Plot depicts the histogram and data scattering of Budget and revenue. It is noticed that there is a strong \n",
    "correlation between the two variables, hence can be used generate meaningfull insights.\n"
   ]
  },
  {
   "cell_type": "markdown",
   "metadata": {},
   "source": [
    "#### Data Preparation to Address the Investigation queries:"
   ]
  },
  {
   "cell_type": "code",
   "execution_count": 83,
   "metadata": {},
   "outputs": [
    {
     "name": "stderr",
     "output_type": "stream",
     "text": [
      "/opt/conda/lib/python3.6/site-packages/pandas/core/frame.py:2746: SettingWithCopyWarning: \n",
      "A value is trying to be set on a copy of a slice from a DataFrame\n",
      "\n",
      "See the caveats in the documentation: http://pandas.pydata.org/pandas-docs/stable/indexing.html#indexing-view-versus-copy\n",
      "  **kwargs)\n"
     ]
    }
   ],
   "source": [
    "##### Use this, and more code cells, to explore your data. Don't forget to add\n",
    "#   Markdown cells to document your observations and findings.\n",
    "#df.hist(column=['revenue','budget','vote_count','vote_average'],grid=True,figsize=(5,3))\n",
    "\n",
    "#df.boxplot(column=['revenue','budget','vote_count','vote_average'])\n",
    "#df.info()\n",
    "\n",
    "#df.plot.scatter(x='budget',y='popularity')\n",
    "\n",
    "         \n",
    "# Append Multiple Genres into rows\n",
    "df1=df[['release_mth','release_year','genres_0','popularity']]\n",
    "df2=df[['release_mth','release_year','genres_1','popularity']]\n",
    "df3=df[['release_mth','release_year','genres_2','popularity']]\n",
    "df4=df[['release_mth','release_year','genres_3','popularity']]\n",
    "df5=df[['release_mth','release_year','genres_4','popularity']]\n",
    "df2.rename(columns={'genres_1':'genres_0'},inplace=True)\n",
    "df3.rename(columns={'genres_2':'genres_0'},inplace=True)\n",
    "df4.rename(columns={'genres_3':'genres_0'},inplace=True)\n",
    "df5.rename(columns={'genres_4':'genres_0'},inplace=True)\n",
    "df_Coll=pd.concat([df1,df2,df3,df4,df5])\n",
    "df_Coll.drop_duplicates()\n",
    "df_Coll['release_mth_yr']=df_Coll['release_year'].astype(str) +'-'+df_Coll['release_mth']\n",
    "df_Coll=pd.crosstab(df_Coll['release_year'], df_Coll['genres_0']).reset_index()\n",
    "\n"
   ]
  },
  {
   "cell_type": "markdown",
   "metadata": {},
   "source": [
    "### Plot genres that were released over the period of years"
   ]
  },
  {
   "cell_type": "code",
   "execution_count": 84,
   "metadata": {},
   "outputs": [
    {
     "data": {
      "image/png": "[encoded data removed]",
      "text/plain": [
       "<matplotlib.figure.Figure at 0x7fa8001084a8>"
      ]
     },
     "metadata": {
      "needs_background": "light"
     },
     "output_type": "display_data"
    }
   ],
   "source": [
    "\n",
    "col=df_Coll.columns.values.tolist()\n",
    "del col[0]\n",
    "\n",
    "df_sum=df_Coll.groupby([((df_Coll.release_year//10)*10)])[col].sum().reset_index()\n",
    "\n",
    "df_sum.plot.bar(x='release_year',y=col,figsize=(30,15),legend=True,xticks = np.arange(1960,2016,10),title=\"Popular Genres\",)\n",
    "plt.xlabel('Years')\n",
    "plt.ylabel('Movies Count')\n",
    "plt.rcParams['font.size'] = 15"
   ]
  },
  {
   "cell_type": "markdown",
   "metadata": {},
   "source": [
    "### Research Question 2  - Top 10 movies that made maximum profit"
   ]
  },
  {
   "cell_type": "code",
   "execution_count": 85,
   "metadata": {},
   "outputs": [
    {
     "data": {
      "text/plain": [
       "Text(0,0.5,'Profit in $')"
      ]
     },
     "execution_count": 85,
     "metadata": {},
     "output_type": "execute_result"
    },
    {
     "data": {
      "image/png": "[encoded data removed]",
      "text/plain": [
       "<matplotlib.figure.Figure at 0x7fa8156625f8>"
      ]
     },
     "metadata": {
      "needs_background": "light"
     },
     "output_type": "display_data"
    }
   ],
   "source": [
    "df_02=df\n",
    "df_02.corr()\n",
    "# There is a strong correleation between budget and revenue\n",
    "\n",
    "df_02['profit']=(df_02['revenue']-df_02['budget']).astype(int)\n",
    "df_02_sum=df_02.groupby('original_title')[['profit']].sum().reset_index()\n",
    "df_02_sum.sort_values('profit',ascending=False,inplace=True)\n",
    "\n",
    "\n",
    "df_02_sum.head(10).plot.bar(x='original_title',y='profit',title='Top Profitable Movies',legend=False)\n",
    "plt.xlabel('Movies')\n",
    "plt.ylabel('Profit in $')\n"
   ]
  },
  {
   "cell_type": "markdown",
   "metadata": {},
   "source": [
    "<a id='conclusions'></a>\n",
    "## Conclusions\n",
    "\n",
    "* The popular genres over the period of time were Drama followed by  comedy and Thriller\n",
    "* Movies that generated the maximum profiles are Avatar, Star Wars, Titanic, Jurassic World, Furious 7, The Avengers, Harry Potter part 2, Avengers Ultron and the Net.\n",
    "\n",
    "Limitations-\n",
    "Based on the Data Analysis, it is noticed that most of the movies do not have data assinged for budgets and revenue,   however, dropping such data from the analysis could provide necessary insights based on the available data "
   ]
  },
  {
   "cell_type": "code",
   "execution_count": 86,
   "metadata": {},
   "outputs": [
    {
     "data": {
      "text/plain": [
       "0"
      ]
     },
     "execution_count": 86,
     "metadata": {},
     "output_type": "execute_result"
    }
   ],
   "source": [
    "from subprocess import call\n",
    "call(['python', '-m', 'nbconvert', 'Investigate_a_Dataset.ipynb'])"
   ]
  }
 ],
 "metadata": {
  "kernelspec": {
   "display_name": "Python 3",
   "language": "python",
   "name": "python3"
  },
  "language_info": {
   "codemirror_mode": {
    "name": "ipython",
    "version": 3
   },
   "file_extension": ".py",
   "mimetype": "text/x-python",
   "name": "python",
   "nbconvert_exporter": "python",
   "pygments_lexer": "ipython3",
   "version": "3.6.3"
  }
 },
 "nbformat": 4,
 "nbformat_minor": 2
}
